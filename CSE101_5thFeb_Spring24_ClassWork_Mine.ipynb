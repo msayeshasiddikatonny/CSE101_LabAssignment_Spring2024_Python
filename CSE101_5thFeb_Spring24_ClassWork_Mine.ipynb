{
  "nbformat": 4,
  "nbformat_minor": 0,
  "metadata": {
    "colab": {
      "provenance": [],
      "include_colab_link": true
    },
    "kernelspec": {
      "name": "python3",
      "display_name": "Python 3"
    },
    "language_info": {
      "name": "python"
    }
  },
  "cells": [
    {
      "cell_type": "markdown",
      "metadata": {
        "id": "view-in-github",
        "colab_type": "text"
      },
      "source": [
        "<a href=\"https://colab.research.google.com/github/msayeshasiddikatonny/CSE101_LabAssignment_Spring2024_Python/blob/main/CSE101_5thFeb_Spring24_ClassWork_Mine.ipynb\" target=\"_parent\"><img src=\"https://colab.research.google.com/assets/colab-badge.svg\" alt=\"Open In Colab\"/></a>"
      ]
    },
    {
      "cell_type": "code",
      "source": [
        "#Task6\n",
        "s_name=input(\"Enter your name :\")\n",
        "s_ID=input(\"Enter your ID :\")\n",
        "\n",
        "#print(s_name)\n",
        "#print(s_ID)\n",
        "\n",
        "print(\"The name and student id are\",s_name,\",\",s_ID,\".\")\n",
        "\n",
        "#The name and student id are Harry, 12342222 .\n"
      ],
      "metadata": {
        "colab": {
          "base_uri": "https://localhost:8080/"
        },
        "id": "p_kfmTGou7en",
        "outputId": "7756315c-fce1-49c4-d146-018d3e45a0e6"
      },
      "execution_count": null,
      "outputs": [
        {
          "output_type": "stream",
          "name": "stdout",
          "text": [
            "Enter your name :Harry\n",
            "Enter your ID :12342222\n",
            "The name and student id are Harry , 12342222 .\n"
          ]
        }
      ]
    },
    {
      "cell_type": "code",
      "source": [
        "num=input(\"enter a num\")\n",
        "\n",
        "num1=int(num)\n",
        "\n",
        "num2=str(num1)"
      ],
      "metadata": {
        "id": "3ZuQX9H0u7ov"
      },
      "execution_count": null,
      "outputs": []
    },
    {
      "cell_type": "code",
      "source": [
        "a=int(input(\"enter a num\"))"
      ],
      "metadata": {
        "id": "J8hXfUgKu7xm"
      },
      "execution_count": null,
      "outputs": []
    }
  ]
}