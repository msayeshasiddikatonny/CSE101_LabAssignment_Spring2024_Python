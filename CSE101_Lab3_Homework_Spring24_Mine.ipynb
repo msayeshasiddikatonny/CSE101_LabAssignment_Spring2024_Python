{
  "nbformat": 4,
  "nbformat_minor": 0,
  "metadata": {
    "colab": {
      "provenance": [],
      "authorship_tag": "ABX9TyOtCybWv0PCcfG+fXKozEir",
      "include_colab_link": true
    },
    "kernelspec": {
      "name": "python3",
      "display_name": "Python 3"
    },
    "language_info": {
      "name": "python"
    }
  },
  "cells": [
    {
      "cell_type": "markdown",
      "metadata": {
        "id": "view-in-github",
        "colab_type": "text"
      },
      "source": [
        "<a href=\"https://colab.research.google.com/github/msayeshasiddikatonny/CSE101_LabAssignment_Spring2024_Python/blob/main/CSE101_Lab3_Homework_Spring24_Mine.ipynb\" target=\"_parent\"><img src=\"https://colab.research.google.com/assets/colab-badge.svg\" alt=\"Open In Colab\"/></a>"
      ]
    },
    {
      "cell_type": "markdown",
      "source": [
        "**Task:1**\\\n",
        "Write a code to print multiples of 3 or 7 from 1 to 100 using loops.\n"
      ],
      "metadata": {
        "id": "pRx8CrdDlTM9"
      }
    },
    {
      "cell_type": "code",
      "execution_count": null,
      "metadata": {
        "id": "y3TEp7b0lMTe",
        "colab": {
          "base_uri": "https://localhost:8080/"
        },
        "outputId": "b8c2bebb-aba9-4f4a-f5ea-39a3e9907267"
      },
      "outputs": [
        {
          "output_type": "stream",
          "name": "stdout",
          "text": [
            "3\n",
            "6\n",
            "7\n",
            "9\n",
            "12\n",
            "14\n",
            "15\n",
            "18\n",
            "21\n",
            "24\n",
            "27\n",
            "28\n",
            "30\n",
            "33\n",
            "35\n",
            "36\n",
            "39\n",
            "42\n",
            "45\n",
            "48\n",
            "49\n",
            "51\n",
            "54\n",
            "56\n",
            "57\n",
            "60\n",
            "63\n",
            "66\n",
            "69\n",
            "70\n",
            "72\n",
            "75\n",
            "77\n",
            "78\n",
            "81\n",
            "84\n",
            "87\n",
            "90\n",
            "91\n",
            "93\n",
            "96\n",
            "98\n",
            "99\n"
          ]
        }
      ],
      "source": [
        "for i in range(1, 101):\n",
        "    if i % 3 == 0 or i % 7 == 0:\n",
        "        print(i)"
      ]
    },
    {
      "cell_type": "markdown",
      "source": [
        "\n",
        "**Task:2**\\\n",
        "Write a program that would take an integer input from the user and display if that particular number is a prime number or not.\n"
      ],
      "metadata": {
        "id": "Q_v8XiselYFQ"
      }
    },
    {
      "cell_type": "code",
      "source": [
        "r=True\n",
        "n = int(input(\"Enter a number: \"))\n",
        "if n <= 1:\n",
        "    r= False\n",
        "if n == 2:\n",
        "    r=  True\n",
        "if n % 2 == 0:\n",
        "    r= False\n",
        "for i in range(3, int(n**0.5) + 1, 2):\n",
        "    if n % i == 0:\n",
        "        r=  False\n",
        "\n",
        "\n",
        "if  r:\n",
        "    print(f\"{n} is a prime number.\")\n",
        "else:\n",
        "    print(f\"{n} is not a prime number.\")"
      ],
      "metadata": {
        "id": "CEoSCPbvmVhU",
        "colab": {
          "base_uri": "https://localhost:8080/"
        },
        "outputId": "f118d440-1c10-45aa-92ba-bd819e564b1c"
      },
      "execution_count": null,
      "outputs": [
        {
          "output_type": "stream",
          "name": "stdout",
          "text": [
            "Enter a number: 7\n",
            "7 is a prime number.\n"
          ]
        }
      ]
    },
    {
      "cell_type": "markdown",
      "source": [
        "**Task:3**\\\n",
        "Write a Python program, that prints the following sequence of values in loops:\n",
        "18, 27, 36, 45, 54, 63\n"
      ],
      "metadata": {
        "id": "57BAHXYKlYc0"
      }
    },
    {
      "cell_type": "code",
      "source": [
        "for i in range(18, 63+1, 9):\n",
        "    if i == 63:\n",
        "        print(i, end=\"\")\n",
        "    else:\n",
        "        print(i, end=\", \")"
      ],
      "metadata": {
        "id": "LNgIZ3uxmWDa",
        "colab": {
          "base_uri": "https://localhost:8080/"
        },
        "outputId": "bd2e8dff-ff70-4eda-b8c5-adce5af90b55"
      },
      "execution_count": 2,
      "outputs": [
        {
          "output_type": "stream",
          "name": "stdout",
          "text": [
            "18, 27, 36, 45, 54, 63"
          ]
        }
      ]
    },
    {
      "cell_type": "markdown",
      "source": [
        "**Task:4**\\\n",
        "Write a Python code that will calculate the value of y if the expression of y is as follows (n is the input):\n",
        "\n",
        "\n",
        "y=12−22+32−42+52.........+n2\n",
        "\n",
        "\n",
        "\n",
        "===============================================================\\\n",
        "Sample Input 1:\\\n",
        "5\\\n",
        "Sample Output 1:\\\n",
        "15\\\n",
        "Explanation: y = 1 - 4 + 9 - 16 + 25 = 15\n",
        "\n",
        "===============================================================\\\n",
        "Sample Input 2:\\\n",
        "10\\\n",
        "Sample Output 2:\\\n",
        "-55\\\n",
        "Explanation: y = 1 - 4 + 9 - 16 + 25 - 36 + 49 - 64 + 81 - 100 = -55\n",
        "\n",
        "===============================================================\\\n",
        "Sample Input 3:\\\n",
        "20\\\n",
        "Sample Output 3:\\\n",
        "-210\n"
      ],
      "metadata": {
        "id": "3Tszr7JalZeq"
      }
    },
    {
      "cell_type": "code",
      "source": [
        "n=int(input())\n",
        "total = 0\n",
        "for i in range(1, n+1):\n",
        "    total += (-1) ** (i-1) * i**2\n",
        "print( total)\n",
        "\n",
        ""
      ],
      "metadata": {
        "id": "MwHaEN7AmaJ2",
        "colab": {
          "base_uri": "https://localhost:8080/"
        },
        "outputId": "e3e78646-76d0-4285-f0d1-79bccf5e8832"
      },
      "execution_count": 3,
      "outputs": [
        {
          "output_type": "stream",
          "name": "stdout",
          "text": [
            "20\n",
            "-210\n"
          ]
        }
      ]
    },
    {
      "cell_type": "markdown",
      "source": [
        "**Task:5**\n",
        "\n",
        "Write a Python code that will read 5 numbers from the user. Your program should print the first number, the sum of the first 2 numbers, the sum of the first 3 numbers, and so on up to the sum of 5 numbers.\\\n",
        "===============================================================\\\n",
        "Sample Input 1:\\\n",
        "1\\\n",
        "2\\\n",
        "3\\\n",
        "4\\\n",
        "5\\\n",
        "Sample Output 1:\\\n",
        "1\\\n",
        "3\\\n",
        "6\\\n",
        "10\\\n",
        "15\n",
        "\n",
        "\n",
        "Explanation:\\\n",
        "When the user enters 1 at first, we print 1, then\\\n",
        "The user enters 2, (1 + 2) = 3, so our output is 3, then\\\n",
        "The user enters 3, (3 + 3) = 6, hence our output is 6, then\\\n",
        "The user enters 4, and we have (6 + 4) = 10, we print 10, and finally\\\n",
        "The user enters 5, the final sum is 15 which is printed as the last output.\\\n",
        "===============================================================\\\n",
        "Sample Input 2:\\\n",
        "11\\\n",
        "-29\\\n",
        "-3\\\n",
        "47\\\n",
        "50\n",
        "\n",
        "\n",
        "Sample Output 2:\\\n",
        "11\\\n",
        "-18\\\n",
        "-21\\\n",
        "26\\\n",
        "76\\\n",
        "Explanation:\\\n",
        "When the user enters 11 at first, we print 11, then\\\n",
        "The user enters -29, (11 + (-29)) = -18, so our output is -18, then\\\n",
        "The user enters -3, (-18 - 3) = -21, hence our output is -21, then\\\n",
        "The user enters 4, and we have (-21 + 47) = 26, we print 26, and finally\\\n",
        "The user enters 50, the final sum is (26 + 50) = 76 which is printed as the last output.\n",
        "\n",
        "\n",
        "\n"
      ],
      "metadata": {
        "id": "AiKenKRXlZbT"
      }
    },
    {
      "cell_type": "code",
      "source": [
        "s=0\n",
        "for i in range(5):\n",
        "  x=int(input(\"Enter a number \"))\n",
        "  s+=x\n",
        "  print(s)\n"
      ],
      "metadata": {
        "id": "CiYOtz05mbiI",
        "colab": {
          "base_uri": "https://localhost:8080/"
        },
        "outputId": "7f77aeeb-72db-4f01-b660-a8f6102e6d07"
      },
      "execution_count": null,
      "outputs": [
        {
          "output_type": "stream",
          "name": "stdout",
          "text": [
            "Enter a number 1\n",
            "1\n",
            "Enter a number 2\n",
            "3\n",
            "Enter a number 3\n",
            "6\n",
            "Enter a number 4\n",
            "10\n",
            "Enter a number 5\n",
            "15\n"
          ]
        }
      ]
    }
  ]
}