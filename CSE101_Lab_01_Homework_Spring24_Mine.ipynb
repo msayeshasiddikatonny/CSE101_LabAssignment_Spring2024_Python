{
  "nbformat": 4,
  "nbformat_minor": 0,
  "metadata": {
    "colab": {
      "provenance": [],
      "include_colab_link": true
    },
    "kernelspec": {
      "name": "python3",
      "display_name": "Python 3"
    },
    "language_info": {
      "name": "python"
    }
  },
  "cells": [
    {
      "cell_type": "markdown",
      "metadata": {
        "id": "view-in-github",
        "colab_type": "text"
      },
      "source": [
        "<a href=\"https://colab.research.google.com/github/msayeshasiddikatonny/CSE101_LabAssignment_Spring2024_Python/blob/main/CSE101_Lab_01_Homework_Spring24_Mine.ipynb\" target=\"_parent\"><img src=\"https://colab.research.google.com/assets/colab-badge.svg\" alt=\"Open In Colab\"/></a>"
      ]
    },
    {
      "cell_type": "markdown",
      "source": [
        "#Home Work"
      ],
      "metadata": {
        "id": "0PEkH0prBBcj"
      }
    },
    {
      "cell_type": "markdown",
      "source": [
        "1.Write a Python program that takes two inputs from the user, his name and his friend's name. In output, print as follows.\n",
        "\n",
        "Sample Input:\\\n",
        "Please enter your Name: Phineas\\\n",
        "Please enter your Friends Name: Ferb\n",
        "\n",
        "\n",
        "\n",
        "Sample Output:\\\n",
        "Hey Phineas! Your friend must be Ferb.\n"
      ],
      "metadata": {
        "id": "SDL_y55OBD5q"
      }
    },
    {
      "cell_type": "code",
      "execution_count": null,
      "metadata": {
        "colab": {
          "base_uri": "https://localhost:8080/"
        },
        "id": "4hHTeUcxA-Dk",
        "outputId": "11e7c851-20aa-41ec-87e8-71a7a5c8f8f0"
      },
      "outputs": [
        {
          "output_type": "stream",
          "name": "stdout",
          "text": [
            "Please enter your Name:Phineas\n",
            "Please enter your Friends Name:Ferb\n",
            "Hey Phineas! Your friend must be Ferb.\n",
            "Hey Phineas ! Your friend must be Ferb.\n"
          ]
        }
      ],
      "source": [
        "#Task1\n",
        "your_name=input(\"Please enter your Name:\")\n",
        "your_friend_name=input(\"Please enter your Friends Name:\")\n",
        "\n",
        "#print(your_name)\n",
        "#print(your_friend_name)\n",
        "\n",
        "print(f\"Hey {your_name}! Your friend must be {your_friend_name}.\")\n",
        "print('Hey',your_name,\"! Your friend must be\",your_friend_name+'.')"
      ]
    },
    {
      "cell_type": "markdown",
      "source": [
        "2.Write a Python program that reads two integers from the user, and prints their sum, product, and difference.\n",
        "\n",
        "Sample Input:\\\n",
        "First number= 15\\\n",
        "Second number= 20\n",
        "\n",
        "Sample Output:\\\n",
        "Sum = 35\\\n",
        "Product = 300\\\n",
        "Difference = -5"
      ],
      "metadata": {
        "id": "ecv-JTSDCsvy"
      }
    },
    {
      "cell_type": "code",
      "source": [
        "#Task2\n",
        "\n",
        "num1=input(\"First number= \")\n",
        "num2=input(\"Second number= \")\n",
        "num1=int(num1)\n",
        "num2=int(num2)\n",
        "\n",
        "sum=num1+num2\n",
        "pro=num1*num2\n",
        "diff=num1-num2\n",
        "\n",
        "\n",
        "print(\"Sum =\",sum)\n",
        "print(\"Product =\",pro)\n",
        "print(\"Difference =\",diff)"
      ],
      "metadata": {
        "colab": {
          "base_uri": "https://localhost:8080/"
        },
        "id": "NVMq4ZztC03R",
        "outputId": "654fa932-ecd4-4e96-b8ef-9793e8352f9f"
      },
      "execution_count": null,
      "outputs": [
        {
          "output_type": "stream",
          "name": "stdout",
          "text": [
            "First number= 15\n",
            "Second number= 20\n",
            "Sum = 35\n",
            "Product = 300\n",
            "Difference = -5\n"
          ]
        }
      ]
    },
    {
      "cell_type": "markdown",
      "source": [
        "3.Write a Python program that reads the first name, last name, and department name from the user and prints the full name and department in the following order.\n",
        "\n",
        "Sample input:\\\n",
        "John\\\n",
        "Doe\\\n",
        "EEE\n",
        "\n",
        "Sample output:\n",
        "The full name of the student is John Doe, EEE department.\n"
      ],
      "metadata": {
        "id": "zDapy28mEurK"
      }
    },
    {
      "cell_type": "code",
      "source": [
        "#Task3\n",
        "first_name=input('Please enter your first name: ')\n",
        "last_name=input('Please enter your last name: ')\n",
        "dep=input(\"Please enter your department: \")\n",
        "\n",
        "print(f\"The full name of the student is {first_name} {last_name}, {dep} department.\")"
      ],
      "metadata": {
        "colab": {
          "base_uri": "https://localhost:8080/"
        },
        "id": "j4ZitxrdFHCB",
        "outputId": "331b2b57-3dfe-4b97-d9f4-a81510e63db2"
      },
      "execution_count": null,
      "outputs": [
        {
          "output_type": "stream",
          "name": "stdout",
          "text": [
            "Please enter your first name: John\n",
            "Please enter your last name: Doe\n",
            "Please enter your department: EEE\n",
            "The full name of the student is John Doe, EEE department.\n"
          ]
        }
      ]
    },
    {
      "cell_type": "markdown",
      "source": [
        "4.Write a Python program that reads three integers from the user ( x, y, and z) , calculates the summation of those integers and the following equation, x+y-z, and prints the result.\n",
        "\n",
        "Sample input:\\\n",
        "x = 9\\\n",
        "y = 4\\\n",
        "z = 3\n",
        "\n",
        "Sample output:\\\n",
        "Summation: 16\\\n",
        "x+y-z = 10\n"
      ],
      "metadata": {
        "id": "AnT_X8IoGoNJ"
      }
    },
    {
      "cell_type": "code",
      "source": [
        "#Task4\n",
        "\n",
        "x=input()\n",
        "y=input()\n",
        "z=input()\n",
        "\n",
        "x=int(x)\n",
        "y=int(y)\n",
        "z=int(z)\n",
        "\n",
        "sum=x+y+z\n",
        "eq=x+y-z\n",
        "\n",
        "print(\"Summation\",sum)\n",
        "print(\"x+y-z =\",eq)"
      ],
      "metadata": {
        "colab": {
          "base_uri": "https://localhost:8080/"
        },
        "id": "PCbuEEa2G3mY",
        "outputId": "091756ec-99bb-49e6-fdf0-e11bda8bfd96"
      },
      "execution_count": null,
      "outputs": [
        {
          "output_type": "stream",
          "name": "stdout",
          "text": [
            "9\n",
            "4\n",
            "3\n",
            "Summation 16\n",
            "x+y-z = 10\n"
          ]
        }
      ]
    },
    {
      "cell_type": "markdown",
      "source": [
        "5.Write a Python program that takes an integer value for variable r and prints the calculated area and circumference of a circle using r.\n",
        "[ Hint: area of circle = pi *r *r,\\\n",
        "circumference of circle = 2 *pi *r \\\n",
        "pi ≈ 3.1416 ]\\\n",
        "Sample Input:\\\n",
        "5\n",
        "\n",
        "Sample output:\\\n",
        "The area of the circle: 78.54\\\n",
        "The area of the square: 31.42\n"
      ],
      "metadata": {
        "id": "1t84lM9JIBEX"
      }
    },
    {
      "cell_type": "code",
      "source": [
        "#Task5\n",
        "r=input(\"Please enter the radious: \")\n",
        "r=int(r)\n",
        "pi=3.1416\n",
        "\n",
        "area=pi *r *r\n",
        "circumference=2 *pi *r\n",
        "print(\"The area of the circle: \",area)\n",
        "print(\"The area of the square: \",circumference)"
      ],
      "metadata": {
        "colab": {
          "base_uri": "https://localhost:8080/"
        },
        "id": "6JsOIQUuIXwT",
        "outputId": "e8dd6532-2213-4f0c-a361-997391650a1e"
      },
      "execution_count": null,
      "outputs": [
        {
          "output_type": "stream",
          "name": "stdout",
          "text": [
            "Please enter the radious: 5\n",
            "The area of the circle:  78.54\n",
            "The area of the square:  31.416\n"
          ]
        }
      ]
    },
    {
      "cell_type": "markdown",
      "source": [
        "# **Flow chart**\n",
        "\n",
        "https://colab.research.google.com/drive/1z82z1mOvO9uiIFN5l3nIjPI4bK2kIuVD"
      ],
      "metadata": {
        "id": "cBkmdFVAlcL7"
      }
    },
    {
      "cell_type": "code",
      "source": [
        "#Flowchart 5\n",
        "num = int(input(\"Enter a number between 1 and 30: \"))\n",
        "\n",
        "if num < 1 or num > 30:\n",
        "    print(\"Invalid input. Please enter a number between 1 and 30.\")\n",
        "else:\n",
        "    if num % 5 == 0:\n",
        "        if num == 5 or num == 25:\n",
        "            print(num, \"is a prime number.\")\n",
        "        else:\n",
        "            is_prime = True\n",
        "            for i in range(2, int(num/2)+1):\n",
        "                if num % i == 0:\n",
        "                    is_prime = False\n",
        "                    break\n",
        "            if is_prime:\n",
        "                print(num, \"is a prime number.\")\n",
        "            else:\n",
        "                print(num, \"is not a prime number.\")\n",
        "    else:\n",
        "        is_prime = True\n",
        "        for i in range(2, int(num/2)+1):\n",
        "            if num % i == 0:\n",
        "                is_prime = False\n",
        "                break\n",
        "        if is_prime:\n",
        "            print(num, \"is a prime number.\")\n",
        "        else:\n",
        "            print(num, \"is not a prime number.\")"
      ],
      "metadata": {
        "colab": {
          "base_uri": "https://localhost:8080/"
        },
        "id": "noskZ6d1E6Uz",
        "outputId": "2f9ceec2-72a5-48d8-e14c-aec89c1da5fc"
      },
      "execution_count": null,
      "outputs": [
        {
          "output_type": "stream",
          "name": "stdout",
          "text": [
            "Enter a number between 1 and 30: 7\n",
            "7 is a prime number.\n"
          ]
        }
      ]
    }
  ]
}