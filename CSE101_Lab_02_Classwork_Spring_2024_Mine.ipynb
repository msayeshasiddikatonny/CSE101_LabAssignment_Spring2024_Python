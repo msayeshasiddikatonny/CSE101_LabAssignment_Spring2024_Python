{
  "nbformat": 4,
  "nbformat_minor": 0,
  "metadata": {
    "colab": {
      "provenance": [],
      "include_colab_link": true
    },
    "kernelspec": {
      "name": "python3",
      "display_name": "Python 3"
    },
    "language_info": {
      "name": "python"
    }
  },
  "cells": [
    {
      "cell_type": "markdown",
      "metadata": {
        "id": "view-in-github",
        "colab_type": "text"
      },
      "source": [
        "<a href=\"https://colab.research.google.com/github/msayeshasiddikatonny/CSE101_LabAssignment_Spring2024_Python/blob/main/CSE101_LAB02_CLASS_WORK_Mine.ipynb\" target=\"_parent\"><img src=\"https://colab.research.google.com/assets/colab-badge.svg\" alt=\"Open In Colab\"/></a>"
      ]
    },
    {
      "cell_type": "markdown",
      "source": [
        "# Task 1\n",
        "Write Python code of a program that reads two numbers from the user. Your program should then print \"First is greater\" if the first number is greater, \"Second is greater\" if the second number is greater, and \"The numbers are equal\" otherwise.\n",
        "**Example:**\n",
        "\n",
        "Input:\\\n",
        "-4\\\n",
        "-4\\\n",
        "Output:The numbers are equal\n",
        "\n",
        "**Example:**\\\n",
        "Input:\\\n",
        "-40\\\n",
        "-4\\\n",
        "Output:Second is greater\n",
        "\n",
        "hint: You can consider the numbers to be floating point values\n"
      ],
      "metadata": {
        "id": "1LILmxOVXp5a"
      }
    },
    {
      "cell_type": "code",
      "execution_count": null,
      "metadata": {
        "id": "EIWESkBkXmk7",
        "colab": {
          "base_uri": "https://localhost:8080/"
        },
        "outputId": "4d11d59d-558d-4e9e-bce9-39c2e52e2ae5"
      },
      "outputs": [
        {
          "output_type": "stream",
          "name": "stdout",
          "text": [
            "Enter first number : 5\n",
            "Enter second number : 7\n",
            "Second is greater\n"
          ]
        }
      ],
      "source": [
        "x=int(input(\"Enter first number : \"))\n",
        "y=int(input(\"Enter second number : \"))\n",
        "\n",
        "if x>y:# if the answer is \"Yes\"\n",
        "  print(\"First is greater\" )\n",
        "\n",
        "elif y>x:# if the answer is \"Yes\"\n",
        "    print(\"Second is greater\")\n",
        "\n",
        "else:\n",
        "    print(\"The numbers are equal\")\n"
      ]
    },
    {
      "cell_type": "code",
      "source": [
        "a=input(\"enter a number\")\n",
        "b=int(a)\n",
        "\n",
        "print(type(a),\"line 4\")\n",
        "print(type(b),\"line 5\")\n"
      ],
      "metadata": {
        "colab": {
          "base_uri": "https://localhost:8080/"
        },
        "id": "JJEqhsJr8Gs_",
        "outputId": "98fe24fc-432b-4eeb-ff4c-35acfbf6baa3"
      },
      "execution_count": null,
      "outputs": [
        {
          "output_type": "stream",
          "name": "stdout",
          "text": [
            "enter a number4\n",
            "<class 'str'> line 4\n",
            "<class 'int'> line 5\n"
          ]
        }
      ]
    },
    {
      "cell_type": "code",
      "source": [
        "x=int(input(\"Enter first number : \"))\n",
        "y=int(input(\"Enter second number : \"))\n",
        "\n",
        "if x>y:# if the answer is \"Yes\"\n",
        "  print(\"First is greater\" )\n",
        "\n",
        "elif y>x:# if the answer is \"Yes\"\n",
        "  print(\"Second is greater\")\n",
        "  print(\"i am interested about BCH101\")\n",
        "\n",
        "\n",
        "\n",
        "elif  y==x:\n",
        "    print(\"The numbers are equal\")\n",
        "    print(\"i am interested about CSE101\")\n",
        "\n",
        "\n",
        "\n",
        "    print(\"CSE101\")\n",
        "\n",
        "\n",
        "print(\"i am not interested about CSE101\")"
      ],
      "metadata": {
        "colab": {
          "base_uri": "https://localhost:8080/"
        },
        "id": "Z9FH-jrj06O5",
        "outputId": "67ade86d-434e-4efa-ce48-596184dad241"
      },
      "execution_count": null,
      "outputs": [
        {
          "output_type": "stream",
          "name": "stdout",
          "text": [
            "Enter first number : 1\n",
            "Enter second number : 2\n",
            "Second is greater\n",
            "i am interested about BCH101\n",
            "i am not interested about CSE101\n"
          ]
        }
      ]
    },
    {
      "cell_type": "code",
      "source": [
        "x=int(input(\"Enter first number : \"))\n",
        "y=int(input(\"Enter second number : \"))\n",
        "if x>y:\n",
        "\n",
        "\n",
        "\n",
        "\n",
        "\n",
        "\n"
      ],
      "metadata": {
        "id": "rThw1w7f1dGC"
      },
      "execution_count": null,
      "outputs": []
    },
    {
      "cell_type": "markdown",
      "source": [
        "# Task 2\n",
        "Write Python code of a program that reads two numbers, subtracts the smaller number from the larger one, and prints the result.\n",
        "hint(1): First check which number is greater\n",
        "hint(2): You can consider the numbers to be floating point values\n",
        "\n",
        "**Example:**\\\n",
        "Input:\\\n",
        "-40\\\n",
        "-4\\\n",
        "Output:\\\n",
        "36\n",
        "\n",
        "**Example:**\\\n",
        "Input:\\\n",
        "6\\\n",
        "2\\\n",
        "Output:\\\n",
        "4"
      ],
      "metadata": {
        "id": "ebbbdbm4YKMB"
      }
    },
    {
      "cell_type": "code",
      "source": [
        "x=int(input(\"Enter first number : \"))\n",
        "y=int(input(\"Enter first number : \"))\n",
        "\n",
        "if x>y:\n",
        "   result=x-y\n",
        "else:\n",
        "  result=y-x\n",
        "\n",
        "print(result)"
      ],
      "metadata": {
        "id": "D8vJgsZaYcSx",
        "colab": {
          "base_uri": "https://localhost:8080/"
        },
        "outputId": "bf21ab2e-3a16-4922-aba8-10ea09bed318"
      },
      "execution_count": null,
      "outputs": [
        {
          "output_type": "stream",
          "name": "stdout",
          "text": [
            "Enter first number : -2\n",
            "Enter first number : 4\n",
            "6\n"
          ]
        }
      ]
    },
    {
      "cell_type": "markdown",
      "source": [
        "# Task 3\n",
        "Write Python code of a program that reads a number, and prints \"The number is even\" or \"The number is odd\", depending on whether the number is even or odd.\n",
        "hint(1): use the modulus (%) operator\n",
        "hint(2): You can consider the number to be an integer\n",
        "\n",
        "**Example:**\\\n",
        "Input:\\\n",
        "5\\\n",
        "Output:\\\n",
        "The number is odd\n",
        "\n",
        "**Example:**\\\n",
        "Input:\\\n",
        "-44\\\n",
        "Output:\\\n",
        "The number is even"
      ],
      "metadata": {
        "id": "jHpN67bPYcm4"
      }
    },
    {
      "cell_type": "code",
      "source": [
        "x=int(input(\"Enter first number : \"))\n",
        "\n",
        "\n",
        "if x%2==0:\n",
        " print(\"The number is even\")\n",
        "else:\n",
        "  print(\"The number is odd\")"
      ],
      "metadata": {
        "id": "hcXgY1BtYpHp",
        "colab": {
          "base_uri": "https://localhost:8080/"
        },
        "outputId": "89755fc8-c694-4341-8323-ccdc1d0c2018"
      },
      "execution_count": null,
      "outputs": [
        {
          "output_type": "stream",
          "name": "stdout",
          "text": [
            "Enter first number : 5\n",
            "The number is odd\n"
          ]
        }
      ]
    },
    {
      "cell_type": "code",
      "source": [
        "x=int(input(\"Enter first number : \"))\n",
        "\n",
        "\n",
        "if x%2!=0: # if x%2==1:\n",
        " print(\"The number is odd\")\n",
        "else:\n",
        "  print(\"The number is even\")"
      ],
      "metadata": {
        "colab": {
          "base_uri": "https://localhost:8080/"
        },
        "id": "9SO3zgzV_xTO",
        "outputId": "c97703cb-3f3c-4226-fe1b-a272f7fff8d1"
      },
      "execution_count": null,
      "outputs": [
        {
          "output_type": "stream",
          "name": "stdout",
          "text": [
            "Enter first number : 5\n",
            "The number is odd\n"
          ]
        }
      ]
    },
    {
      "cell_type": "markdown",
      "source": [
        "# Task 4\n",
        "Write Python code of a program that reads an integer, and prints the integer if it is a multiple of NEITHER 2 NOR 5.\n",
        "For example, 1, 3, 7, 9, 11, 13, 17, 19, 21, 23, 27, 29, 31, 33, 37, 39 …\n",
        "\n",
        "hint(1): use the modulus (%) operator for checking the divisibility\n",
        "hint(2): You can consider the number to be an integer\n",
        "\n",
        "**Example01:**\\\n",
        "Input: 3\\\n",
        "Output: 3\n",
        "\n",
        "**Example02:**\\\n",
        "Input: 19\\\n",
        "Output: 19\n",
        "\n",
        "**Example03:**\\\n",
        "Input: 5\\\n",
        "Output: No\n",
        "\n",
        "**Example04:**\\\n",
        "Input: 12\\\n",
        "Output:No\n"
      ],
      "metadata": {
        "id": "CrW7chaJYq-J"
      }
    },
    {
      "cell_type": "code",
      "source": [
        "x=int(input(\"Enter first number : \"))\n",
        "\n",
        "\n",
        "if x%2!=0:#25 35\n",
        "  if x%5!=0:\n",
        "    print(x)\n",
        "  else:\n",
        "    print(\"No\",\"line 8\")\n",
        "\n",
        "else:\n",
        "  print(\"No\",\"line 11 \")\n",
        "\n"
      ],
      "metadata": {
        "id": "rSVtwRETZZ4B",
        "colab": {
          "base_uri": "https://localhost:8080/"
        },
        "outputId": "e608fd0e-8aac-4798-c985-ac43c78ecb29"
      },
      "execution_count": null,
      "outputs": [
        {
          "output_type": "stream",
          "name": "stdout",
          "text": [
            "Enter first number : 25\n",
            "No line 8\n"
          ]
        }
      ]
    },
    {
      "cell_type": "code",
      "source": [
        "x=int(input(\"Enter first number : \"))\n",
        "if x%2!=0 and x%5!=0:\n",
        "  print(x)\n",
        "else:\n",
        "  print(\"No\")"
      ],
      "metadata": {
        "colab": {
          "base_uri": "https://localhost:8080/"
        },
        "id": "oSm7BYdTFXqM",
        "outputId": "52eaf668-6d9c-4510-9f01-db13f5309f6f"
      },
      "execution_count": null,
      "outputs": [
        {
          "output_type": "stream",
          "name": "stdout",
          "text": [
            "Enter first number : 13\n",
            "13\n"
          ]
        }
      ]
    },
    {
      "cell_type": "markdown",
      "source": [
        "# Task 5\n",
        "Write Python code of a program that reads an integer, and prints the integer if it is NOT a multiple of 2 OR NOT a multiple of 5.\n",
        "For example, 1, 2, 3, 4, 5, 6, 7, 8, 9, 11, 12, 13, 14, 15, 16, 17, 18, 19, 21, 22\n",
        "\n",
        "hint(1): use the modulus (%) operator for checking the divisibility\n",
        "hint(2): You can consider the number to be an integer\n",
        "\n",
        "**Example01:**\\\n",
        "Input: 3\\\n",
        "Output:3\n",
        "\n",
        "**Example02:**\\\n",
        "Input: 11\\\n",
        "Output: 11\n",
        "\n",
        "**Example03:**\\\n",
        "Input: 20\\\n",
        "Output: No\n"
      ],
      "metadata": {
        "id": "n1Y-kUv-Zauy"
      }
    },
    {
      "cell_type": "code",
      "source": [
        "x=int(input(\"Enter first number : \"))\n",
        "if x%2!=0 or x%5!=0:\n",
        "  print(x)\n",
        "else:\n",
        "  print(\"No\")"
      ],
      "metadata": {
        "id": "uYJg7TjlZq5h",
        "colab": {
          "base_uri": "https://localhost:8080/"
        },
        "outputId": "b9231ecf-e986-47dc-c461-6da9f16e342f"
      },
      "execution_count": null,
      "outputs": [
        {
          "output_type": "stream",
          "name": "stdout",
          "text": [
            "Enter first number : 10\n",
            "No\n"
          ]
        }
      ]
    },
    {
      "cell_type": "markdown",
      "source": [
        "# Task 6\n",
        "Write Python code of a program to compute and display a person’s weekly salary as determined by the following conditions: If the hours worked are less than or equal to 40, the person receives Tk200.00 per hour, else the person receives Tk 8000.00 plus Tk300.00 for each hour worked over 40 hours. The program should request the hours worked as input and should display the salary as output.\n",
        "\n",
        "hint: You can consider the hour(the user input) to be an integer\n",
        "\n",
        "**Example1:**\\\n",
        "Input: 100\\\n",
        "Output: 26000\n",
        "\n",
        "**Example2:**\\\n",
        "Input: 30\\\n",
        "Output: 6000"
      ],
      "metadata": {
        "id": "9COzBuAWZrMZ"
      }
    },
    {
      "cell_type": "code",
      "source": [
        "hour=int(input(\"Enter first number : \"))\n",
        "if hour<=40:\n",
        "  salary=hour*200\n",
        "else:\n",
        "  salary=8000+(hour-40)*300\n",
        "print(salary)"
      ],
      "metadata": {
        "id": "6BZaz4ABZ0PS",
        "colab": {
          "base_uri": "https://localhost:8080/"
        },
        "outputId": "fc230ce6-2620-4034-c507-5ae941ffd6a8"
      },
      "execution_count": null,
      "outputs": [
        {
          "output_type": "stream",
          "name": "stdout",
          "text": [
            "Enter first number : 30\n",
            "6000\n"
          ]
        }
      ]
    },
    {
      "cell_type": "markdown",
      "source": [
        "# Task 7\n",
        "Take an hour from the user as input and tell it is time for which meal.\n",
        "\n",
        "• The user will input the number in a 24-hour format. So, 14 means 2 pm, 3 means 3 am, 18 means 6 pm, etc.\n",
        "• Valid inputs are 0 to 23. Inputs less than 0 or more than 23 are invalid in 24-hour clock.\n",
        "• Assume, Input will be whole numbers. For example, 3.5 will NOT be given as input.\n",
        "\n",
        "**Inputs: Message to be printed\\\n",
        "4 to 6: Breakfast\\\n",
        "12 to 13: Lunch\\\n",
        "16 to 17: Snacks\\\n",
        "19 to 20: Dinner\\\n",
        "For all other valid inputs, say \"Patience is a virtue\"\n",
        "For all other invalid inputs, say \"Wrong time\"**\n",
        "\n",
        "For example,\n",
        "If the user enters 4, your program should print the message \"Breakfast\".\n",
        "If the user enters 5, your program should print the message \"Breakfast\".\n",
        "If the user enters 6, your program should print the message \"Breakfast\".\n",
        "If the user enters 0, your program should print the message \"Patience is a virtue\".\n",
        "If the user enters 1, your program should print the message \"Patience is a virtue\".\n",
        "If the user enters 18, your program should print the message \"Patience is a virtue\".\n",
        "If the user enters 23, your program should print the message \"Patience is a virtue\".\n",
        "If the user enters 24, your program should print the message \"Wrong Time\".\n",
        "If the user enters -1, your program should print the message \"Wrong Time\".\n",
        "If the user enters 27, your program should print the message \"Wrong time\".\n",
        "\n",
        "**Hints:**\n",
        "You can use nested conditionals (if-else) or chained conditions (if-elif-else) to solve this problem."
      ],
      "metadata": {
        "id": "51fCD-lTZ0fA"
      }
    },
    {
      "cell_type": "code",
      "source": [
        "hour=int(input(\"Enter hour : \"))\n",
        "\n",
        "if hour>=0 and hour<=23:\n",
        "  if hour>=4 and hour<=6:\n",
        "    print('Breakfast')\n",
        "  elif hour>=12 and hour<=13:\n",
        "    print('Lunch')\n",
        "  elif hour>=16 and hour<=17:\n",
        "    print('Snacks')\n",
        "  elif hour>=19 and hour<=20:\n",
        "    print('Dinner')\n",
        "  else:\n",
        "    print(\"Patience is a virtue\")\n",
        "\n",
        "else:\n",
        "  print(\"Wrong time\")"
      ],
      "metadata": {
        "id": "zBGxtJ6zaINi",
        "colab": {
          "base_uri": "https://localhost:8080/"
        },
        "outputId": "59ad1e49-4a03-4818-c45d-7113ede5a380"
      },
      "execution_count": null,
      "outputs": [
        {
          "output_type": "stream",
          "name": "stdout",
          "text": [
            "Enter hour : 1000\n",
            "Wrong time\n"
          ]
        }
      ]
    }
  ]
}
