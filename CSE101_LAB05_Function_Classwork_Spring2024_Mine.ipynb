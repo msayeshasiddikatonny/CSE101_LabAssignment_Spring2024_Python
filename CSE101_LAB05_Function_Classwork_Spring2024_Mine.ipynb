{
  "nbformat": 4,
  "nbformat_minor": 0,
  "metadata": {
    "colab": {
      "provenance": [],
      "include_colab_link": true
    },
    "kernelspec": {
      "name": "python3",
      "display_name": "Python 3"
    },
    "language_info": {
      "name": "python"
    }
  },
  "cells": [
    {
      "cell_type": "markdown",
      "metadata": {
        "id": "view-in-github",
        "colab_type": "text"
      },
      "source": [
        "<a href=\"https://colab.research.google.com/github/msayeshasiddikatonny/CSE101_LabAssignment_Spring2024_Python/blob/main/CSE101_LAB_05_Function_classwork_Spring24_Mine.ipynb\" target=\"_parent\"><img src=\"https://colab.research.google.com/assets/colab-badge.svg\" alt=\"Open In Colab\"/></a>"
      ]
    },
    {
      "cell_type": "markdown",
      "source": [
        "# What is a function?\n",
        "A function is a block of code which will only run when it is called.\n",
        "\n",
        "**There are 4 types of functions.**\n",
        "*   Built-in function\n",
        "*   User-Defined function\n",
        "*   Lambda function\n",
        "*   Recursive function\n",
        "\n",
        "**A function has 4 parts.**\n",
        "1. Function Name\n",
        "2. Parameter List\n",
        "3. Body of the function\n",
        "4. Return Statement\n",
        "\n",
        "### We have already used built-in functions like print(), input() etc. Now we will learn user-defined functions.\n",
        "\n",
        "An example of Lambda function & recurrsion are shown at the end of the lab."
      ],
      "metadata": {
        "id": "9Qq__tmRqfL4"
      }
    },
    {
      "cell_type": "code",
      "source": [
        "def CSE101(Student_Count):\n",
        "  if Student_Count<10:\n",
        "    print('Very bad')\n",
        "  elif Student_Count<15:\n",
        "    print('Moderate')\n",
        "  else:\n",
        "    print('Very Good')\n",
        "\n",
        "CSE101(21)"
      ],
      "metadata": {
        "colab": {
          "base_uri": "https://localhost:8080/"
        },
        "id": "i3gKXf8a8J-o",
        "outputId": "ad6afa6e-4e0f-4a08-dc4b-32b6b21e2f20"
      },
      "execution_count": null,
      "outputs": [
        {
          "output_type": "stream",
          "name": "stdout",
          "text": [
            "Very Good\n"
          ]
        }
      ]
    },
    {
      "cell_type": "code",
      "source": [
        "Student_Count=21\n",
        "if Student_Count<10:\n",
        "    print('Very bad')\n",
        "elif Student_Count<15:\n",
        "    print('Moderate')\n",
        "else:\n",
        "    print('Very Good')"
      ],
      "metadata": {
        "colab": {
          "base_uri": "https://localhost:8080/"
        },
        "id": "QUpNtZwl-Wr4",
        "outputId": "cd10878b-58c8-4dd0-d113-97e1ceee528b"
      },
      "execution_count": null,
      "outputs": [
        {
          "output_type": "stream",
          "name": "stdout",
          "text": [
            "Very Good\n"
          ]
        }
      ]
    },
    {
      "cell_type": "code",
      "source": [
        "def CSE101(Student_Count):\n",
        "\n",
        "  if Student_Count<10:\n",
        "    return 'Very bad'\n",
        "  elif Student_Count<15:\n",
        "     return 'Moderate'\n",
        "  else:\n",
        "   return'Very Good'\n",
        "\n",
        "comment=CSE101(14)\n",
        "print(comment)"
      ],
      "metadata": {
        "colab": {
          "base_uri": "https://localhost:8080/"
        },
        "id": "2VFh172Y85Jx",
        "outputId": "cb34cf6f-6ce8-4173-de72-4a9940ffd11e"
      },
      "execution_count": null,
      "outputs": [
        {
          "output_type": "stream",
          "name": "stdout",
          "text": [
            "Moderate\n"
          ]
        }
      ]
    },
    {
      "cell_type": "code",
      "source": [],
      "metadata": {
        "id": "i1b8m68k85gI"
      },
      "execution_count": null,
      "outputs": []
    },
    {
      "cell_type": "code",
      "source": [],
      "metadata": {
        "id": "wVpKcEkx8524"
      },
      "execution_count": null,
      "outputs": []
    },
    {
      "cell_type": "code",
      "source": [
        "def as_ur_wish_sum_of_quizzes(a,b,c,d,e):\n",
        "  sum=a+b+c+d+e\n",
        "  return sum\n",
        "\n",
        "arghajit=as_ur_wish_sum_of_quizzes(13,10,15,10,12)\n",
        "print(arghajit)\n",
        "eza=as_ur_wish_sum_of_quizzes(14,13,15,12,14)\n",
        "print(\"Eza er marks\",eza)\n"
      ],
      "metadata": {
        "colab": {
          "base_uri": "https://localhost:8080/"
        },
        "id": "QECN_XPxsCQ7",
        "outputId": "7b75586e-3a80-43a8-c152-36ae05f6cba1"
      },
      "execution_count": null,
      "outputs": [
        {
          "output_type": "stream",
          "name": "stdout",
          "text": [
            "60\n",
            "Eza er marks 68\n"
          ]
        }
      ]
    },
    {
      "cell_type": "code",
      "source": [
        "def as_ur_wish_sum_of_quizzes(a,b,c,d,e):\n",
        "  eza=a+b+c+d+e\n",
        "  print(eza)\n",
        "\n",
        "as_ur_wish_sum_of_quizzes(14,13,15,12,14)\n"
      ],
      "metadata": {
        "colab": {
          "base_uri": "https://localhost:8080/"
        },
        "id": "DdHS6UACE2KT",
        "outputId": "c8245490-4e55-4cc1-94a2-b74fc4bf553f"
      },
      "execution_count": null,
      "outputs": [
        {
          "output_type": "stream",
          "name": "stdout",
          "text": [
            "68\n"
          ]
        }
      ]
    },
    {
      "cell_type": "code",
      "source": [
        "def as_ur_wish_sum(a,b,c,d,e):\n",
        "  sum=a+b+c+d+e\n",
        "  print(sum)\n",
        "\n",
        "as_ur_wish_sum(13,20,30,49,90)\n"
      ],
      "metadata": {
        "colab": {
          "base_uri": "https://localhost:8080/"
        },
        "id": "X9izPb2CvOma",
        "outputId": "c7c02fa3-89b8-407a-9b33-9716fa42a9bf"
      },
      "execution_count": null,
      "outputs": [
        {
          "output_type": "stream",
          "name": "stdout",
          "text": [
            "202\n"
          ]
        }
      ]
    },
    {
      "cell_type": "code",
      "source": [
        "def as_ur_wish_sum(a,b,c,d,e):\n",
        "  sum=a+b+c+d+e\n",
        "  return sum\n",
        "\n",
        "ishtiak=as_ur_wish_sum(1,2,3,4,5)\n",
        "print(ishtiak)\n"
      ],
      "metadata": {
        "colab": {
          "base_uri": "https://localhost:8080/"
        },
        "id": "WIappXMss5LK",
        "outputId": "dfaeb6ee-1a7e-4765-f767-79e96df11f8a"
      },
      "execution_count": null,
      "outputs": [
        {
          "output_type": "stream",
          "name": "stdout",
          "text": [
            "15\n"
          ]
        }
      ]
    },
    {
      "cell_type": "code",
      "source": [
        "def as_ur_wish_sum(a,b,c,d,e):\n",
        "  sum=a+b+c+d+e\n",
        "  return sum\n",
        "\n",
        "sadman=as_ur_wish_sum(3,5,7,9,11)\n",
        "print(sadman)\n"
      ],
      "metadata": {
        "colab": {
          "base_uri": "https://localhost:8080/"
        },
        "id": "zm6xXpUktCiK",
        "outputId": "e7b5a494-decb-4f0f-ac20-8e7cecd193b4"
      },
      "execution_count": null,
      "outputs": [
        {
          "output_type": "stream",
          "name": "stdout",
          "text": [
            "35\n"
          ]
        }
      ]
    },
    {
      "cell_type": "markdown",
      "source": [
        "## TASK 1 : Learning how to call a function.\n",
        "Write a function to print \"Hello everyone! I love CSE101 Labs\". Complete the function and call it to show the output."
      ],
      "metadata": {
        "id": "pUxTL5Ym3nUv"
      }
    },
    {
      "cell_type": "code",
      "source": [
        "#Your code here\n",
        "def Hello():\n",
        "  print(\"Hello everyone! I love CSE101 Labs\")\n",
        "\n",
        "Hello()"
      ],
      "metadata": {
        "id": "TK_5HZoJrtqV",
        "colab": {
          "base_uri": "https://localhost:8080/"
        },
        "outputId": "f5ec6566-9d24-4246-a901-543971b36d7f"
      },
      "execution_count": null,
      "outputs": [
        {
          "output_type": "stream",
          "name": "stdout",
          "text": [
            "Hello everyone! I love CSE101 Labs\n"
          ]
        }
      ]
    },
    {
      "cell_type": "code",
      "source": [
        "\n",
        "\n",
        "def CSE():\n",
        "  print(\"Hello everyone! I love CSE101 Labs\")\n",
        "\n",
        "CSE()"
      ],
      "metadata": {
        "colab": {
          "base_uri": "https://localhost:8080/"
        },
        "id": "_PA8Hd_WGtNk",
        "outputId": "e89127a0-683d-4a9c-c7e6-cf45e5aba48f"
      },
      "execution_count": null,
      "outputs": [
        {
          "output_type": "stream",
          "name": "stdout",
          "text": [
            "Hello everyone! I love CSE101 Labs\n"
          ]
        }
      ]
    },
    {
      "cell_type": "markdown",
      "source": [
        "## Task 2: Multiple Parameter\n",
        "Take two numbers from the user. Now, Find out the square of the addition of 2 values using a function and print the output according to the following statement.\n",
        "\n",
        "$$ (a+b)^2 = a^2 + 2ab + b^2 $$\n",
        "\n",
        "---\n",
        "**Example:**\n",
        "\n",
        "input: a = 9, b = 5\n",
        "\n",
        "output: The result of the calculation is 196.\n"
      ],
      "metadata": {
        "id": "fdEb1KLl5Yf9"
      }
    },
    {
      "cell_type": "code",
      "source": [
        "#Your code here\n",
        "def find_square(a, b):\n",
        "  f=a**2+2*a*b+b**2\n",
        "  print(\"The result of the calculation is\",f)\n",
        "\n",
        "x=int(input('enter first number: ')  )\n",
        "y=int(input('enter second number: ')  )\n",
        "\n",
        "find_square(x , y)"
      ],
      "metadata": {
        "id": "DdXHWt-E6lQD",
        "colab": {
          "base_uri": "https://localhost:8080/"
        },
        "outputId": "527e71c6-2074-4a8c-b473-69201b6b5c5b"
      },
      "execution_count": null,
      "outputs": [
        {
          "output_type": "stream",
          "name": "stdout",
          "text": [
            "enter first number: 10\n",
            "enter second number: 12\n",
            "The result of the calculation is 484\n"
          ]
        }
      ]
    },
    {
      "cell_type": "code",
      "source": [
        "#Your code here\n",
        "x=int(input('enter first number: ')  )\n",
        "y=int(input('enter second number: ')  )\n",
        "\n",
        "find_square(x , y)\n",
        "\n",
        "def find_square(a, b):\n",
        "\n",
        "\n",
        "\n",
        "  f=a**2+2*a*b+b**2\n",
        "  print(\"The result of the calculation is\",f)\n",
        "\n",
        "\n",
        "\n",
        "\n",
        "\n",
        "\n",
        "\n",
        "\n",
        "\n"
      ],
      "metadata": {
        "id": "W9heScHqKdyA"
      },
      "execution_count": null,
      "outputs": []
    },
    {
      "cell_type": "code",
      "source": [
        "#Your code here\n",
        "def find_square(a, b):\n",
        "  eq=a**2+2*a*b+b**2\n",
        "  return eq\n",
        "\n",
        "ayesha=int(input('enter first number: ')  )\n",
        "lamiha=int(input('enter second number: ')  )\n",
        "\n",
        "result=find_square(ayesha,lamiha)\n",
        "print(\"The result of the calculation is\",result)"
      ],
      "metadata": {
        "colab": {
          "base_uri": "https://localhost:8080/"
        },
        "id": "ilHDvH6T0Q1J",
        "outputId": "4b6dfeed-09c3-4419-8c2f-b6f9be2f2c78"
      },
      "execution_count": null,
      "outputs": [
        {
          "output_type": "stream",
          "name": "stdout",
          "text": [
            "enter first number: 9\n",
            "enter second number: 5\n",
            "The result of the calculation is 196\n"
          ]
        }
      ]
    },
    {
      "cell_type": "markdown",
      "source": [
        "## Task 3: Return Statement\n",
        "\n",
        "Write a function called show_palindrome that takes a number from the user and sends as an argument to the function. Then returns a palindrome string and prints the returned value in the function call.\n",
        "\n",
        "---\n",
        "\n",
        "**Example1:**\n",
        "\n",
        "user input = 5\n",
        "\n",
        "Function Call: show_palindrome(5)\n",
        "\n",
        "Output: 123454321\n",
        "\n",
        "---\n",
        "**Example2:**\n",
        "\n",
        "user input = 8\n",
        "\n",
        "Function Call: show_palindrome(8)\n",
        "\n",
        "Output: 123456787654321\n",
        "\n",
        "---"
      ],
      "metadata": {
        "id": "61cvnUPs6nfj"
      }
    },
    {
      "cell_type": "code",
      "source": [
        "def show_palindrome(p):\n",
        "  s=''\n",
        "  for i in range(1,p+1,1):\n",
        "    s=s+str(i)\n",
        "  for i in range( p-1,0,-1):\n",
        "    s=s+str(i)\n",
        "\n",
        "  return s\n",
        "\n",
        "user_input = int(input(\"enter a number\"))\n",
        "pal=show_palindrome(user_input)\n",
        "print(pal)"
      ],
      "metadata": {
        "colab": {
          "base_uri": "https://localhost:8080/"
        },
        "id": "U0ROQaUwODBd",
        "outputId": "aabe3d9d-ce4d-4926-8bf0-12beb1bb63b3"
      },
      "execution_count": null,
      "outputs": [
        {
          "output_type": "stream",
          "name": "stdout",
          "text": [
            "enter a number9\n",
            "12345678987654321\n"
          ]
        }
      ]
    },
    {
      "cell_type": "code",
      "source": [],
      "metadata": {
        "id": "2yUHNuXmOC91"
      },
      "execution_count": null,
      "outputs": []
    },
    {
      "cell_type": "code",
      "source": [],
      "metadata": {
        "id": "JjfJ7MeuOC7W"
      },
      "execution_count": null,
      "outputs": []
    },
    {
      "cell_type": "code",
      "source": [],
      "metadata": {
        "id": "t4wLvWYSOCw2"
      },
      "execution_count": null,
      "outputs": []
    },
    {
      "cell_type": "code",
      "source": [
        "#Your code here\n",
        "def show_palindrome(x):\n",
        "  s=\"\"\n",
        "  for i in range(1,x+1):\n",
        "    s=s+str(i)\n",
        "  for i in range( x-1,0,-1):\n",
        "    s=s+str(i)\n",
        "  return s\n",
        "ayesha=int(input('enter first number: ')  )\n",
        "print(show_palindrome(ayesha))\n"
      ],
      "metadata": {
        "id": "TCg7XdhF66mH",
        "colab": {
          "base_uri": "https://localhost:8080/"
        },
        "outputId": "622337bc-6728-4c75-c5fb-8351b97b4c48"
      },
      "execution_count": null,
      "outputs": [
        {
          "output_type": "stream",
          "name": "stdout",
          "text": [
            "enter first number: 5\n",
            "123454321\n"
          ]
        }
      ]
    },
    {
      "cell_type": "markdown",
      "source": [
        "## Task 4\n",
        "\n",
        "Write a python function that takes a string as an argument. Your task is to calculate the number of uppercase letters and lowercase letters and print them in the function.\n",
        "\n",
        "---\n",
        "\n",
        "Function Call: function_name('The quick Sand Man')\n",
        "\n",
        "Output:\n",
        "\n",
        "Number of Uppercase characters : 3\n",
        "\n",
        "Number of Lowercase characters : 12\n",
        "\n",
        "---\n",
        "Function Call:  function_name('HaRRy PotteR')\n",
        "\n",
        "Output:\n",
        "\n",
        "Number of Uppercase characters : 5\n",
        "\n",
        "Number of Lowercase Characters: 6\n",
        "\n",
        "---"
      ],
      "metadata": {
        "id": "Dp2Io1Vb68Pb"
      }
    },
    {
      "cell_type": "code",
      "source": [
        "#Your code here\n",
        "def  function_name(s) :\n",
        "  u=0\n",
        "  l=0\n",
        "  for i in s:\n",
        "     if i >='a' and i<='z':\n",
        "      l=l+1\n",
        "     elif i >='A' and i<='Z':\n",
        "      u=u+1\n",
        "  print(\"Number of Uppercase characters : \",u)\n",
        "  print(\"Number of Lowercase Characters:\",l)\n",
        "x=input(\"enter a string\")\n",
        "function_name(x)"
      ],
      "metadata": {
        "id": "Wi_mmANm6_av",
        "colab": {
          "base_uri": "https://localhost:8080/"
        },
        "outputId": "c6d52c4f-e922-4106-82d0-386dcdd8cc7a"
      },
      "execution_count": null,
      "outputs": [
        {
          "output_type": "stream",
          "name": "stdout",
          "text": [
            "enter a stringThe quick Sand Man\n",
            "Number of Uppercase characters :  3\n",
            "Number of Lowercase Characters: 12\n"
          ]
        }
      ]
    },
    {
      "cell_type": "markdown",
      "source": [
        "## Task 5\n",
        "\n",
        "Write a Python function that takes a string and reveses it.\n",
        "\n",
        "---\n",
        "**Example:**\n",
        "\n",
        "Sample String : \"1234abcd\"\n",
        "\n",
        "Expected Output : \"dcba4321\"\n",
        "\n",
        "---"
      ],
      "metadata": {
        "id": "1IN3NSTJ7BB4"
      }
    },
    {
      "cell_type": "code",
      "source": [
        "#Your code here\n",
        "def  function_name(s) :\n",
        "  new_str=''\n",
        "  for i in range(len(s)-1,-1,-1):\n",
        "    new_str=new_str+s[i]\n",
        "  print(new_str)\n",
        "\n",
        "x=input(\"enter a string\")\n",
        "function_name(x)"
      ],
      "metadata": {
        "id": "a4KE2A6d7CGw",
        "colab": {
          "base_uri": "https://localhost:8080/"
        },
        "outputId": "2ce07c2c-fec6-40fd-e2c4-7f6768b8f473"
      },
      "execution_count": null,
      "outputs": [
        {
          "output_type": "stream",
          "name": "stdout",
          "text": [
            "enter a stringAyesHa\n",
            "aHseyA\n"
          ]
        }
      ]
    },
    {
      "cell_type": "markdown",
      "source": [
        "## Task 6 ##\n",
        "Write a python program that will take a list of 5 numbers from the user. Then the list will be sent to a function to find the max and min value among the list and then return both values. after getting the values back, the code should show the difference among the two numbers.\n",
        "\n",
        "The output should look like this:\n",
        "\n",
        "---\n",
        "\n",
        "**Example:**\n",
        "\n",
        "x = [5, 56, 12, 87, 73]\n",
        "\n",
        "Function Call: find_max(x)\n",
        "\n",
        "Output: The difference is 82.\n",
        "\n",
        "---\n"
      ],
      "metadata": {
        "id": "cybVMM6c7G6u"
      }
    },
    {
      "cell_type": "code",
      "source": [
        " #Your code here\n",
        "def find_max_min(l):\n",
        "  max=-999999\n",
        "  min=999999\n",
        "  for i in l:\n",
        "    if i>max:\n",
        "      max=i\n",
        "    if i<min:\n",
        "      min=i\n",
        "  return max,min\n",
        "\n",
        "x = [5, 56, 12, 87, 73]\n",
        "mx,mn=find_max_min(x)\n",
        "result=mx-mn\n",
        "print(\"The difference is\",result)"
      ],
      "metadata": {
        "id": "h0YvIAvJYm_A",
        "colab": {
          "base_uri": "https://localhost:8080/"
        },
        "outputId": "1f6b6984-7b08-4f6d-b043-d3c5f1d75836"
      },
      "execution_count": null,
      "outputs": [
        {
          "output_type": "stream",
          "name": "stdout",
          "text": [
            "The difference is 82\n"
          ]
        }
      ]
    },
    {
      "cell_type": "markdown",
      "source": [
        "## Lambda Function"
      ],
      "metadata": {
        "id": "vd4EXTFP5VgK"
      }
    },
    {
      "cell_type": "code",
      "source": [
        "x = lambda a, b : a * b\n",
        "print(x(5, 6))"
      ],
      "metadata": {
        "id": "YdKl8Bl34wQK",
        "colab": {
          "base_uri": "https://localhost:8080/"
        },
        "outputId": "d93b5e7d-cc55-449f-a481-daba12c521f8"
      },
      "execution_count": null,
      "outputs": [
        {
          "output_type": "stream",
          "name": "stdout",
          "text": [
            "30\n"
          ]
        }
      ]
    },
    {
      "cell_type": "markdown",
      "source": [
        "## Recursive Function"
      ],
      "metadata": {
        "id": "LGJPuUNf5cNC"
      }
    },
    {
      "cell_type": "code",
      "source": [
        "def factorial(x):\n",
        "    \"\"\"This is a recursive function\n",
        "    to find the factorial of an integer\"\"\"\n",
        "\n",
        "    if x == 1:\n",
        "        return 1\n",
        "    else:\n",
        "        return (x * factorial(x-1))\n",
        "\n",
        "\n",
        "num = 3\n",
        "print(\"The factorial of\", num, \"is\", factorial(num))"
      ],
      "metadata": {
        "id": "vR7CjY1A5nP4",
        "colab": {
          "base_uri": "https://localhost:8080/"
        },
        "outputId": "b14cf77e-2cce-4a6b-dd03-87e4ba7f6602"
      },
      "execution_count": null,
      "outputs": [
        {
          "output_type": "stream",
          "name": "stdout",
          "text": [
            "The factorial of 3 is 6\n"
          ]
        }
      ]
    }
  ]
}
