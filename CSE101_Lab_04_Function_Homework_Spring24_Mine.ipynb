{
  "nbformat": 4,
  "nbformat_minor": 0,
  "metadata": {
    "colab": {
      "provenance": [],
      "include_colab_link": true
    },
    "kernelspec": {
      "name": "python3",
      "display_name": "Python 3"
    },
    "language_info": {
      "name": "python"
    }
  },
  "cells": [
    {
      "cell_type": "markdown",
      "metadata": {
        "id": "view-in-github",
        "colab_type": "text"
      },
      "source": [
        "<a href=\"https://colab.research.google.com/github/msayeshasiddikatonny/CSE101_LabAssignment_Spring2024_Python/blob/main/CSE101_Lab_04_Function_Homework_Spring24_Mine.ipynb\" target=\"_parent\"><img src=\"https://colab.research.google.com/assets/colab-badge.svg\" alt=\"Open In Colab\"/></a>"
      ]
    },
    {
      "cell_type": "markdown",
      "source": [
        "## Task 1\n",
        "Write a function called even_checker that takes a number as an argument and prints whether the number is even or odd inside the function.\n",
        "\n",
        "---\n",
        "\n",
        "**Example1:**\n",
        "\n",
        "user input = 5\n",
        "\n",
        "Function Call: even_checker(5)\n",
        "\n",
        "Output: Odd!\n",
        "\n",
        "---\n",
        "**Example2:**\n",
        "\n",
        "user input = 8\n",
        "\n",
        "Function Call: even_checker(8)\n",
        "\n",
        "Output: Even!\n",
        "\n",
        "---"
      ],
      "metadata": {
        "id": "ArNVK43NZ_fB"
      }
    },
    {
      "cell_type": "code",
      "execution_count": null,
      "metadata": {
        "id": "upYS57F6ZlEU",
        "colab": {
          "base_uri": "https://localhost:8080/"
        },
        "outputId": "6aba59e8-b591-4a75-d5fa-19cb250af9d2"
      },
      "outputs": [
        {
          "output_type": "stream",
          "name": "stdout",
          "text": [
            "Even!\n"
          ]
        }
      ],
      "source": [
        "def  even_checker(n):\n",
        "   if n%2==0:\n",
        "    print(\"Even!\")\n",
        "   else:\n",
        "    print(\"Odd!\")\n",
        "\n",
        "\n",
        "even_checker(8)"
      ]
    },
    {
      "cell_type": "markdown",
      "source": [
        "## Task 2\n",
        "Write a python program that takes 2 arguments, height and width of the rectangle, and prints the area and perimeter of the rectangle.\n",
        "\n",
        "---\n",
        "**Example1:**\n",
        "\n",
        "Sample Input:\n",
        "height = 10, width = 15\n",
        "\n",
        "function_name(height, width)\n",
        "\n",
        "Sample Output: Area = 150, Perimeter = 50\n",
        "\n",
        "---\n",
        "**Example2:**\n",
        "Sample Input: height = 60, width = 20\n",
        "\n",
        "function_name(height, width)\n",
        "\n",
        "Sample Output: Area = 1200, Perimeter = 160\n",
        "\n",
        "---"
      ],
      "metadata": {
        "id": "KNzghWi0adxO"
      }
    },
    {
      "cell_type": "code",
      "source": [
        "def function_name(height, width):\n",
        "  print(\"Area= \",height*width,\"Perimeter = \",2*(height+width))\n",
        "\n",
        "\n",
        "width=int(input())\n",
        "height=int(input())\n",
        "function_name(height, width)"
      ],
      "metadata": {
        "id": "cTI9LBZ5rWQ3",
        "colab": {
          "base_uri": "https://localhost:8080/"
        },
        "outputId": "fb46c851-1f0c-4dd7-a6c4-945f566863b2"
      },
      "execution_count": null,
      "outputs": [
        {
          "output_type": "stream",
          "name": "stdout",
          "text": [
            "60\n",
            "20\n",
            "Area: 600.0 Perimeter =  160\n"
          ]
        }
      ]
    },
    {
      "cell_type": "markdown",
      "source": [
        "## Task 3\n",
        "Write a function called foo_moo that takes a number as an argument and returns the following statements according to the below mentioned conditions. Then, finally prints the statement in the function call.\n",
        "If the number is divisible by 2, it should return \"Foo\".\n",
        "If the number is divisible by 3, it should return \"Moo\".\n",
        "If the number is divisible by both 2 and 3, it should return \"FooMoo\".\n",
        "Otherwise, it returns \"Boo\".\n",
        "\n",
        "---\n",
        "**Example1:**\n",
        "Function Call: foo_moo(5)\n",
        "\n",
        "Output: Boo\n",
        "\n",
        "---\n",
        "**Example2:**\n",
        "Function Call: foo_moo(4)\n",
        "\n",
        "Output: Foo\n",
        "\n",
        "---\n",
        "Example3:\n",
        "Function Call: foo_moo(6)\n",
        "\n",
        "Output: FooMoo\n",
        "\n",
        "---"
      ],
      "metadata": {
        "id": "cDiDiOw5rYDW"
      }
    },
    {
      "cell_type": "code",
      "source": [
        "def foo_moo(n):\n",
        "  if n%2==0 and n%3==0:\n",
        "    return \"FooMoo\"\n",
        "  elif  n%2==0:\n",
        "    return  \"Foo\"\n",
        "  elif n%3==0:\n",
        "    return  \"Moo\"\n",
        "  else:\n",
        "    return  \"Boo\"\n",
        "print(foo_moo(6))"
      ],
      "metadata": {
        "id": "YaDMITtNrXlO",
        "colab": {
          "base_uri": "https://localhost:8080/"
        },
        "outputId": "8343678e-08c6-4790-81d6-4feef745a0a1"
      },
      "execution_count": null,
      "outputs": [
        {
          "output_type": "stream",
          "name": "stdout",
          "text": [
            "FooMoo\n"
          ]
        }
      ]
    },
    {
      "cell_type": "markdown",
      "source": [
        "## Task 4\n",
        "Write a function which will take 1 argument, number of days.\n",
        "\n",
        "Your first task is to take the number of days as user input and pass the value to the function.\n",
        "Your second task is to implement the function and calculate the total number of years, number of months,\n",
        "and the remaining number of days as output. No need to return any value, print inside the function.\n",
        "\n",
        "**Note: Assume, each year to be 365 days and month to be 30 days.**"
      ],
      "metadata": {
        "id": "X-nYaJGrsbnn"
      }
    },
    {
      "cell_type": "code",
      "source": [
        "def function_name(d):\n",
        "  y=d//365\n",
        "  d=d%365\n",
        "  m=d//30\n",
        "  d=d%30\n",
        "  print(y,\"years,\",m,\"months\",d,\"days\")\n",
        "d=int(input(\"enter days : \"))\n",
        "function_name(d)"
      ],
      "metadata": {
        "id": "d7W6C7gbscUi",
        "colab": {
          "base_uri": "https://localhost:8080/"
        },
        "outputId": "b802dc23-cd09-448c-8dd3-28e27c702ef2"
      },
      "execution_count": null,
      "outputs": [
        {
          "output_type": "stream",
          "name": "stdout",
          "text": [
            "enter days : 2250\n",
            "6 years, 2 months 0 days\n"
          ]
        }
      ]
    },
    {
      "cell_type": "markdown",
      "source": [
        "## Task 5\n",
        "\n",
        "Write a function called calculate_tax that takes 3 arguments: your age, salary, and current job designation.\n",
        "\n",
        "Your first task is to take these arguments as user input and pass these values to the function.\n",
        "\n",
        "Your second task is to implement the function and calculate the tax as the following conditions:\n",
        "\n",
        "* NO TAX IF YOU ARE LESS THAN 18 YEARS OLD.\n",
        "* NO TAX IF YOU ARE THE PRESIDENT OF THE COMPANY\n",
        "* No tax if you get paid less than 10,000\n",
        "* 5% tax if you get paid between 10K and 20K\n",
        "* 10% tax if you get paid more than 20K\n",
        "\n",
        "Finally return this tax value. Then print the returned value in the function call.\n",
        "\n",
        "Hints:\n",
        "Here the job designation is a string, so it can be written in both uppercase and lower cases. So, you need to check the value ignoring the case.\n",
        "\n",
        "---\n",
        "**Example1:**\n",
        "Input: 16, 20000, Student\n",
        "\n",
        "Function Call: calculate_tax(16, 20000, 'Student')\n",
        "\n",
        "Output:0\n",
        "\n",
        "---\n",
        "**Example2:**\n",
        "Input: 23, 18000, Assistant Manager\n",
        "\n",
        "Function Call: calculate_tax(23, 18000, 'Assistant Manager')\n",
        "\n",
        "Output:900.0\n",
        "\n",
        "---\n",
        "**Example3:**\n",
        "Input: 25, 22000, assistant manager\n",
        "\n",
        "Function Call: calculate_tax(23, 18000, 'assistant manager')\n",
        "\n",
        "Output: 2200.0\n",
        "\n",
        "---"
      ],
      "metadata": {
        "id": "f0rf4H99shtH"
      }
    },
    {
      "cell_type": "code",
      "source": [
        "def calculate_tax(a,s,j):\n",
        "  if a<18 or s<10000 or j==\"president\":\n",
        "    return 0\n",
        "  elif 10000<= s <= 20000:\n",
        "    return s*(0.05)\n",
        "  else:\n",
        "    return s*(0.1)\n",
        "age=int(input(\"enter the age : \"))\n",
        "salary=int(input(\"enter the salary : \"))\n",
        "job=input(\"enter the job : \")\n",
        "\n",
        "print(calculate_tax(age, salary, job))"
      ],
      "metadata": {
        "id": "i9Qn1R_ism3Z",
        "colab": {
          "base_uri": "https://localhost:8080/"
        },
        "outputId": "814d0d6a-2d52-40d7-ee75-9298195bfc8b"
      },
      "execution_count": null,
      "outputs": [
        {
          "output_type": "stream",
          "name": "stdout",
          "text": [
            "enter the age : 23\n",
            "enter the salary : 18000\n",
            "enter the job : assistant manager\n",
            "900.0\n"
          ]
        }
      ]
    }
  ]
}