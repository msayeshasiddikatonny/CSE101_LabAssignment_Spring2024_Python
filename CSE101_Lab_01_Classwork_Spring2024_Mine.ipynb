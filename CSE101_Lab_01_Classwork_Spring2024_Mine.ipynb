{
  "nbformat": 4,
  "nbformat_minor": 0,
  "metadata": {
    "colab": {
      "provenance": [],
      "authorship_tag": "ABX9TyM9+ALyU7J3Q4gRoJV+mLRt",
      "include_colab_link": true
    },
    "kernelspec": {
      "name": "python3",
      "display_name": "Python 3"
    },
    "language_info": {
      "name": "python"
    }
  },
  "cells": [
    {
      "cell_type": "markdown",
      "metadata": {
        "id": "view-in-github",
        "colab_type": "text"
      },
      "source": [
        "<a href=\"https://colab.research.google.com/github/msayeshasiddikatonny/CSE101_LabAssignment_Spring2024_Python/blob/main/CSE101_Lab_01_Classwork_Spring2024_Mine.ipynb\" target=\"_parent\"><img src=\"https://colab.research.google.com/assets/colab-badge.svg\" alt=\"Open In Colab\"/></a>"
      ]
    },
    {
      "cell_type": "markdown",
      "source": [
        "# **Task 6**\n",
        "\n",
        "Write a Python program that reads a name and student ID from the user and prints the given name and student ID.\n",
        "\n",
        "**Sample input:**\n",
        "Harry\\\n",
        "12342222\\\n",
        "**Sample output:** The name and student id are Harry, 12342222\n"
      ],
      "metadata": {
        "id": "3Ka7gjzGzq4q"
      }
    },
    {
      "cell_type": "code",
      "execution_count": 1,
      "metadata": {
        "colab": {
          "base_uri": "https://localhost:8080/"
        },
        "id": "tsq-wEVyzlLs",
        "outputId": "f687f764-7dbe-4aa1-e629-d8a11fad7de6"
      },
      "outputs": [
        {
          "output_type": "stream",
          "name": "stdout",
          "text": [
            "Input your First Name : Harry\n",
            "Input your ID : 12342222\n",
            "The name and student id are Harry, 12342222\n"
          ]
        }
      ],
      "source": [
        "name = input(\"Input your First Name : \")\n",
        "id= input(\"Input your ID : \")\n",
        "\n",
        "print(\"The name and student id are \" + name + \", \" + id)"
      ]
    },
    {
      "cell_type": "markdown",
      "source": [
        "# **Task 7**\n",
        "\n",
        "Write a Python program that reads two integers from the user(a and b) and calculates the result of the following equation =  a2−2ab+b2\n",
        "\n",
        "\n",
        "**Sample input:**\\\n",
        "a = 2\\\n",
        "b = 3\\\n",
        "**Sample output:**\\\n",
        "1\n"
      ],
      "metadata": {
        "id": "VsgH7dP2z_PG"
      }
    },
    {
      "cell_type": "code",
      "source": [
        "# Read two integers from the user\n",
        "a = int(input(\"Enter first integer: \"))\n",
        "b = int(input(\"Enter second integer: \"))\n",
        "\n",
        "# Calculate the result of the equation\n",
        "result = a**2 - 2*a*b + b**2\n",
        "\n",
        "# Print the result\n",
        "print(\"The result is:\", result)"
      ],
      "metadata": {
        "colab": {
          "base_uri": "https://localhost:8080/"
        },
        "id": "mpp5fkv20p8-",
        "outputId": "9fca81f3-795e-43ba-c8bc-1b6305b1e19a"
      },
      "execution_count": 2,
      "outputs": [
        {
          "output_type": "stream",
          "name": "stdout",
          "text": [
            "Enter first integer: 2\n",
            "Enter second integer: 3\n",
            "The result is: 1\n"
          ]
        }
      ]
    },
    {
      "cell_type": "markdown",
      "source": [
        "# **Task 8**\n",
        "Write a Python program that takes the quiz marks of four students as inputs from the user. Now print the average quiz marks of four students in an integer value.\n",
        "\n",
        "**Sample Input:**\\\n",
        "Student 1 = 12\\\n",
        "Student 2 = 15\\\n",
        "Student 3= 8\\\n",
        "Student 4= 13\n",
        "\n",
        "**Sample output:**\\\n",
        "The Average quiz mark of the students = 12\n",
        "\n"
      ],
      "metadata": {
        "id": "SGn8mF6F0use"
      }
    },
    {
      "cell_type": "code",
      "source": [
        "# Read the quiz marks of four students from the user\n",
        "student1 = int(input(\"Enter the quiz mark of student 1: \"))\n",
        "student2 = int(input(\"Enter the quiz mark of student 2: \"))\n",
        "student3 = int(input(\"Enter the quiz mark of student 3: \"))\n",
        "student4 = int(input(\"Enter the quiz mark of student 4: \"))\n",
        "\n",
        "# Calculate the average quiz marks of four students\n",
        "avg = (student1 + student2 + student3 + student4) / 4\n",
        "\n",
        "# Print the average quiz marks of four students in an integer value\n",
        "print(\"The average quiz mark of the students =\", int(avg))"
      ],
      "metadata": {
        "colab": {
          "base_uri": "https://localhost:8080/"
        },
        "id": "47Q12LkF0_Gw",
        "outputId": "e34f48f0-fa38-407a-df18-bbf185a75e8a"
      },
      "execution_count": 3,
      "outputs": [
        {
          "output_type": "stream",
          "name": "stdout",
          "text": [
            "Enter the quiz mark of student 1: 12\n",
            "Enter the quiz mark of student 2: 15\n",
            "Enter the quiz mark of student 3: 8\n",
            "Enter the quiz mark of student 4: 13\n",
            "The average quiz mark of the students = 12\n"
          ]
        }
      ]
    }
  ]
}