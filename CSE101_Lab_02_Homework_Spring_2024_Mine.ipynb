{
  "nbformat": 4,
  "nbformat_minor": 0,
  "metadata": {
    "colab": {
      "provenance": [],
      "include_colab_link": true
    },
    "kernelspec": {
      "name": "python3",
      "display_name": "Python 3"
    },
    "language_info": {
      "name": "python"
    }
  },
  "cells": [
    {
      "cell_type": "markdown",
      "metadata": {
        "id": "view-in-github",
        "colab_type": "text"
      },
      "source": [
        "<a href=\"https://colab.research.google.com/github/msayeshasiddikatonny/CSE101_LabAssignment_Spring2024_Python/blob/main/CSE101_Lab_02_Homework_Spring_2024_Mine.ipynb\" target=\"_parent\"><img src=\"https://colab.research.google.com/assets/colab-badge.svg\" alt=\"Open In Colab\"/></a>"
      ]
    },
    {
      "cell_type": "markdown",
      "source": [
        "## Task 1\n",
        "Write a python program that reads a number from the user and print if the number is a positive number or a negative number.\n",
        "\n",
        "**Example01:**\\\n",
        "Input:  -8\\\n",
        "Output: It’s a negative number.\n",
        "\n",
        "**Example02:**\\\n",
        "Input: 55\\\n",
        "Output: It’s a positive number.\n"
      ],
      "metadata": {
        "id": "HKTFTcrva1P4"
      }
    },
    {
      "cell_type": "code",
      "source": [
        "n=int(input(\"Enter a num: \"))\n",
        "if n>=0:\n",
        "  print(\"It’s a positive number.\")\n",
        "else:\n",
        "  print(\"It’s a negative number.\")"
      ],
      "metadata": {
        "id": "c1SvkZO2bISY",
        "colab": {
          "base_uri": "https://localhost:8080/"
        },
        "outputId": "1d7c2b9a-3946-4c7d-8f33-02f7f198fce6"
      },
      "execution_count": null,
      "outputs": [
        {
          "output_type": "stream",
          "name": "stdout",
          "text": [
            "Enter a num-8 \n",
            "It’s a negative number.\n"
          ]
        }
      ]
    },
    {
      "cell_type": "markdown",
      "source": [
        "## Task 2\n",
        "Write a python program that reads a number from the user and prints the  given numbers absolute value and also prints if the absolute value is divisible by 3 or not.\n",
        "\n",
        "**Example01:**\\\n",
        "Input: - 21\\\n",
        "Output: The absolute value of the number read from the user is: 21\n",
        "The absolute value is divisible by 3.\n",
        "\n",
        "**Example02:**\\\n",
        "Input: 20\\\n",
        "Output: The absolute value of the number read from the user is: 20\n",
        "The absolute value is not divisible by 3.\n"
      ],
      "metadata": {
        "id": "wWlaBKlibIlo"
      }
    },
    {
      "cell_type": "code",
      "source": [
        "n=int(input(\"Enter a num: \"))\n",
        "if n <0:\n",
        "   n=n*(-1)\n",
        "if n%3==0:\n",
        "  print(f'The absolute value of the number read from the user is: {n} The absolute value is divisible by 3.')\n",
        "else:\n",
        "  print(f'The absolute value of the number read from the user is: {n} The absolute value is not divisible by 3.')\n"
      ],
      "metadata": {
        "id": "4ttQr4rBbYaI",
        "colab": {
          "base_uri": "https://localhost:8080/"
        },
        "outputId": "23c807c1-13ba-4635-d019-65a4d47df246"
      },
      "execution_count": null,
      "outputs": [
        {
          "output_type": "stream",
          "name": "stdout",
          "text": [
            "Enter a num: 20\n",
            "The absolute value of the number read from the user is: 20 The absolute value is not divisible by 3.\n"
          ]
        }
      ]
    },
    {
      "cell_type": "markdown",
      "source": [
        "## Task 3\n",
        "Suppose the following expressions are used to calculate the values of L for different values of S:\n",
        "\n",
        "If S<100 then calculate the value of L using the following equation:\n",
        "\n",
        "L=3000−125S^2\n",
        "\n",
        "if  S≥100 then calculate the value of L using the following equation:\n",
        "\n",
        "L=(120004+S^2)/14900\n",
        "\n",
        "Write a Python code of a program that reads a value of S and then calculates the value of L.\n",
        "\n",
        "**Example01:**\\\n",
        "Input: 120\\\n",
        "Output: 9.02040\n",
        "\n",
        "**Example02:**\\\n",
        "Input: 3\\\n",
        "Output: 1875\n"
      ],
      "metadata": {
        "id": "YLrsjj3IbYyY"
      }
    },
    {
      "cell_type": "code",
      "source": [
        "S=int(input(\"Enter a num: \"))\n",
        "\n",
        "if S<100:\n",
        "  L=3000-125*(S**2)\n",
        "else:\n",
        "  L=(120004+S**2)/14900\n",
        "print(L)"
      ],
      "metadata": {
        "id": "XVS7s1-IbwbA",
        "colab": {
          "base_uri": "https://localhost:8080/"
        },
        "outputId": "f19987e9-c526-418c-ac75-d4f7c9373ab0"
      },
      "execution_count": null,
      "outputs": [
        {
          "output_type": "stream",
          "name": "stdout",
          "text": [
            "Enter a num: 120\n",
            "9.02040268456376\n"
          ]
        }
      ]
    },
    {
      "cell_type": "markdown",
      "source": [
        "## Task 4\n",
        "Write a python program that reads a number from the user and prints the number is valid only if it is greater than 100 and is an even number.\n",
        "\n",
        "**Example01:**\\\n",
        "Input: num =120\\\n",
        "Output: The number is valid.\n",
        "\n",
        "**Example02:**\\\n",
        "Input: num= 88\\\n",
        "Output: The number is invalid.\n",
        "\n",
        "**Example03:**\\\n",
        "Input: 121\\\n",
        "Output: The number is invalid.\n"
      ],
      "metadata": {
        "id": "pfqtQN5obxon"
      }
    },
    {
      "cell_type": "code",
      "source": [
        "n=int(input(\"Enter a num: \"))\n",
        "if n>100 and n%2==0:\n",
        "  print(\"The number is valid.\")\n",
        "else:\n",
        "  print(\"The number is invalid.\")\n"
      ],
      "metadata": {
        "id": "lIhblQr_cE93",
        "colab": {
          "base_uri": "https://localhost:8080/"
        },
        "outputId": "b1a48b56-fc9c-4c42-d665-5b21d78e70c8"
      },
      "execution_count": null,
      "outputs": [
        {
          "output_type": "stream",
          "name": "stdout",
          "text": [
            "Enter a num: 121\n",
            "The number is invalid.\n"
          ]
        }
      ]
    },
    {
      "cell_type": "markdown",
      "source": [
        "## Task 5\n",
        "Write a python that reads a number form the user and find the corresponding grade for the number following the conditions below:\n",
        "\n",
        "If number is greater than or equal to 85 then grade is: A+\n",
        "\n",
        "If number is greater than or equal to 80 and less than 85 then grade is: B\n",
        "\n",
        "If number is greater than or equal to 65 and less than 80 then grade is: C\n",
        "\n",
        "If number is greater than or equal to 55 and less than 65 then grade is: D\n",
        "\n",
        "Else if the number is less than 55 than grade is: F\n",
        "\n",
        "**Example01:**\\\n",
        "Input: Num = 90\\\n",
        "Output:\\\n",
        "Grade: A+\n",
        "\n",
        "**Example02:**\\\n",
        "Input: Num = 65\\\n",
        "Output:\\\n",
        "Grade: C\n"
      ],
      "metadata": {
        "id": "eJRIdDgkcFOf"
      }
    },
    {
      "cell_type": "code",
      "source": [
        "n=int(input(\"Enter a num: \"))\n",
        "if n>= 85:\n",
        "  print(\"A+\")\n",
        "elif n>=80 and n<85:\n",
        "  print(\"B\")\n",
        "elif n>=65 and n<80:\n",
        "  print(\"C\")\n",
        "elif n>=55 and n<65:\n",
        "  print(\"D\")\n",
        "else:\n",
        "  print(\"F\")\n"
      ],
      "metadata": {
        "id": "ZS3S66glcXQY",
        "colab": {
          "base_uri": "https://localhost:8080/"
        },
        "outputId": "97c03ed0-4686-4e3e-f767-bc100f890016"
      },
      "execution_count": null,
      "outputs": [
        {
          "output_type": "stream",
          "name": "stdout",
          "text": [
            "Enter a num: 92\n",
            "A+\n"
          ]
        }
      ]
    }
  ]
}