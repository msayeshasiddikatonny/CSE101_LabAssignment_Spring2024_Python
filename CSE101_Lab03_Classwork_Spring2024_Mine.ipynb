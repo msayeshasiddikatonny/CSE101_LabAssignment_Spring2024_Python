{
  "nbformat": 4,
  "nbformat_minor": 0,
  "metadata": {
    "colab": {
      "provenance": [],
      "include_colab_link": true
    },
    "kernelspec": {
      "name": "python3",
      "display_name": "Python 3"
    },
    "language_info": {
      "name": "python"
    }
  },
  "cells": [
    {
      "cell_type": "markdown",
      "metadata": {
        "id": "view-in-github",
        "colab_type": "text"
      },
      "source": [
        "<a href=\"https://colab.research.google.com/github/msayeshasiddikatonny/CSE101_LabAssignment_Spring2024_Python/blob/main/CSE101_Lab3_Classwork_Spring24_Mine.ipynb\" target=\"_parent\"><img src=\"https://colab.research.google.com/assets/colab-badge.svg\" alt=\"Open In Colab\"/></a>"
      ]
    },
    {
      "cell_type": "markdown",
      "source": [
        "# **Write the Python code of the following problems using Loops:**\n"
      ],
      "metadata": {
        "id": "nebkCwt-G3TU"
      }
    },
    {
      "cell_type": "markdown",
      "source": [
        "**Task:1**\\\n",
        "Write a python program that prints the sum of all even numbers that fall between 1 to 200 using for loop or while loop.\n",
        "\n"
      ],
      "metadata": {
        "id": "Rs2O3FXJHBFs"
      }
    },
    {
      "cell_type": "code",
      "source": [
        "s= 0\n",
        "num =200\n",
        "i = 1\n",
        "while (i<=num):\n",
        " if (i%2==0):\n",
        "  s+=i\n",
        " i+=1\n",
        "print(s)"
      ],
      "metadata": {
        "colab": {
          "base_uri": "https://localhost:8080/"
        },
        "id": "j9HnwZ_iDc-a",
        "outputId": "3221a868-0886-4443-d9ad-4015f555e3bf"
      },
      "execution_count": null,
      "outputs": [
        {
          "output_type": "stream",
          "name": "stdout",
          "text": [
            "10100\n"
          ]
        }
      ]
    },
    {
      "cell_type": "code",
      "source": [
        "num =200\n",
        "i = 1\n",
        "s= 0\n",
        "while (i<=num):\n",
        " if (i%2==0):\n",
        "  s+=i\n",
        " i+=1\n",
        "print(s)"
      ],
      "metadata": {
        "id": "tie4085wnSjk",
        "outputId": "dfbe2494-1011-431a-e23b-45058466f47e",
        "colab": {
          "base_uri": "https://localhost:8080/"
        }
      },
      "execution_count": null,
      "outputs": [
        {
          "output_type": "stream",
          "name": "stdout",
          "text": [
            "10100\n"
          ]
        }
      ]
    },
    {
      "cell_type": "code",
      "source": [
        "s=0\n",
        "for i in range(1,201):\n",
        "  if (i%2==0):\n",
        "   s+=i\n",
        "print(s)"
      ],
      "metadata": {
        "colab": {
          "base_uri": "https://localhost:8080/"
        },
        "id": "g2x1LIYoDig2",
        "outputId": "fa64f417-1b40-48e6-f90f-9473ba60c1bc"
      },
      "execution_count": null,
      "outputs": [
        {
          "output_type": "stream",
          "name": "stdout",
          "text": [
            "10100\n"
          ]
        }
      ]
    },
    {
      "cell_type": "code",
      "source": [
        "s=0\n",
        "for i in range(1,201,1):\n",
        "  if (i%2==0):\n",
        "   s+=i\n",
        "print(s)"
      ],
      "metadata": {
        "colab": {
          "base_uri": "https://localhost:8080/"
        },
        "id": "Pg7cw1BoDo4M",
        "outputId": "44bcb32a-2c19-46a7-f193-25b9f118f856"
      },
      "execution_count": null,
      "outputs": [
        {
          "output_type": "stream",
          "name": "stdout",
          "text": [
            "10100\n"
          ]
        }
      ]
    },
    {
      "cell_type": "code",
      "execution_count": null,
      "metadata": {
        "colab": {
          "base_uri": "https://localhost:8080/"
        },
        "id": "1JFRh1kaGZnv",
        "outputId": "1426b67b-d6b1-44f8-b6da-d2382cf857f4"
      },
      "outputs": [
        {
          "output_type": "stream",
          "name": "stdout",
          "text": [
            "10100\n"
          ]
        }
      ],
      "source": [
        "s=0\n",
        "for i in range(2,202,2):\n",
        "  s+=i\n",
        "print(s)"
      ]
    },
    {
      "cell_type": "markdown",
      "source": [
        "**Task:2**\\\n",
        "Write a python program using a for loop that prints all the numbers from 10 to 150 that are divisible by both 5 and 7.\n",
        "\n"
      ],
      "metadata": {
        "id": "PevCC4s4HKfb"
      }
    },
    {
      "cell_type": "code",
      "source": [
        "for i in range(10,151):\n",
        "  if i%5==0 and i%7==0:\n",
        "    print(i)"
      ],
      "metadata": {
        "colab": {
          "base_uri": "https://localhost:8080/"
        },
        "id": "dWAeNqmmHT6d",
        "outputId": "1773f341-6b4e-4f5b-8334-5ba7f9b555a4"
      },
      "execution_count": null,
      "outputs": [
        {
          "output_type": "stream",
          "name": "stdout",
          "text": [
            "35\n",
            "70\n",
            "105\n",
            "140\n"
          ]
        }
      ]
    },
    {
      "cell_type": "markdown",
      "source": [
        "**Task:3**\\\n",
        "Write a python program that inputs a string from the user and prints the characters of odd numbered indices and the count of those characters using a loop.\n",
        "\n",
        "Sample Input:\n",
        "Hello\n",
        "\n",
        "Sample Output:\\\n",
        "e\\\n",
        "l\\\n",
        "2\n"
      ],
      "metadata": {
        "id": "HnIj5sC1HURz"
      }
    },
    {
      "cell_type": "code",
      "source": [
        "x=input()\n",
        "c=0\n",
        "for i in range(len(x)):\n",
        "  if i%2!=0:\n",
        "    print(x[i])\n",
        "    c+=1\n",
        "\n",
        "print(c)"
      ],
      "metadata": {
        "id": "QEw3WsDwHeus",
        "colab": {
          "base_uri": "https://localhost:8080/"
        },
        "outputId": "b3277682-d5c4-4af8-ac4f-10fb774b8735"
      },
      "execution_count": null,
      "outputs": [
        {
          "output_type": "stream",
          "name": "stdout",
          "text": [
            "Hello\n",
            "e\n",
            "l\n",
            "2\n"
          ]
        }
      ]
    },
    {
      "cell_type": "markdown",
      "source": [
        "**Task:4**\\\n",
        "Write a python program that inputs an integer from the user and and takes that amount of values from  the user as input. Find the maximum number and minimum number among those values and display the result.\n",
        "\n",
        "Sample Input:\\\n",
        "5\\\n",
        "Input1- 10\\\n",
        "Input2-  30\\\n",
        "Input3- 25\\\n",
        "Input4- 5\\\n",
        "Input5- 300\n",
        "\n",
        "Sample Output:\\\n",
        "Maximum number is 300.\\\n",
        "Minimum number is 5.\n"
      ],
      "metadata": {
        "id": "JtK8-RWNHfM1"
      }
    },
    {
      "cell_type": "code",
      "source": [
        "n=int(input(\"How many inputs? \"))\n",
        "max=-1000\n",
        "min=1000\n",
        "for i in range(n):\n",
        "  x=int(input(\"Give me the number \"))\n",
        "  if x>max:\n",
        "    max=x\n",
        "  if x<min:\n",
        "    min=x\n",
        "\n",
        "\n",
        "print(f\"Maximum number is {max}.\")\n",
        "print(f\"Minimum number is {min}.\")"
      ],
      "metadata": {
        "id": "pOlod_-PHtS0",
        "colab": {
          "base_uri": "https://localhost:8080/"
        },
        "outputId": "91263a22-fd49-4384-be27-78136ea31693"
      },
      "execution_count": null,
      "outputs": [
        {
          "output_type": "stream",
          "name": "stdout",
          "text": [
            "How many inputs? 5\n",
            "Give me the number 10\n",
            "Give me the number 30\n",
            "Give me the number 25\n",
            "Give me the number 5\n",
            "Give me the number 300\n",
            "Maximum number is 300.\n",
            "Minimum number is 5.\n"
          ]
        }
      ]
    },
    {
      "cell_type": "markdown",
      "source": [
        "**Task:5**\\\n",
        "Imagine that you have scored very good marks in this semester. Your mother is very happy and has given you **2000 taka**. Now you are happy and decided to live your life. But from your past experiences you know that you are not very good at keeping the records of your spending. So you have decided to write a program that will keep them for you.\n",
        "\n",
        "Whenever you purchase anything the program will show you **what you’ve purchased, how much it has cost** and **how much money you have left** in your hand. When you will have no money left in your hand, the program will print **“Fun time is over. Go back to your boring life”** and stop running.\n",
        "\n"
      ],
      "metadata": {
        "id": "2IkpwJMsHt30"
      }
    },
    {
      "cell_type": "code",
      "source": [
        "money=2000\n",
        "while money>0:\n",
        "  product=input(\"Enter the product name :\")\n",
        "  price=int(input(\"Enter the product name :\"))\n",
        "  money-=price\n",
        "  print(\"I have purchased\",product,\"which price is\",price)\n",
        "  print(\"Money left\",money)\n",
        "print(\"Fun time is over. Go back to your boring life\")"
      ],
      "metadata": {
        "id": "D2gwthtKHzEr",
        "colab": {
          "base_uri": "https://localhost:8080/"
        },
        "outputId": "b1fbbc27-38db-40c1-e263-3f847e282831"
      },
      "execution_count": null,
      "outputs": [
        {
          "output_type": "stream",
          "name": "stdout",
          "text": [
            "Enter the product name :Chips\n",
            "Enter the product name :1200\n",
            "I have purchased Chips which price is 1200\n",
            "Money left 800\n",
            "Enter the product name :Dress\n",
            "Enter the product name :800\n",
            "I have purchased Dress which price is 800\n",
            "Money left 0\n",
            "Fun time is over. Go back to your boring life\n"
          ]
        }
      ]
    }
  ]
}
